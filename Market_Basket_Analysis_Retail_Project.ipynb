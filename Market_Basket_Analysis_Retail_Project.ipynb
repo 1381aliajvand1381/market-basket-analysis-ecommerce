{
 "cells": [
  {
   "cell_type": "markdown",
   "id": "4d2efee8",
   "metadata": {},
   "source": [
    "# import library"
   ]
  },
  {
   "cell_type": "code",
   "execution_count": 1,
   "id": "30d45711",
   "metadata": {},
   "outputs": [],
   "source": [
    "import pandas as pd\n",
    "from sklearn.preprocessing import LabelEncoder ,StandardScaler\n",
    "from mlxtend.frequent_patterns import fpgrowth, association_rules\n",
    "import matplotlib.pyplot as plt\n",
    "import json\n",
    "from sqlalchemy import create_engine\n",
    "from urllib.parse import quote_plus\n",
    "import os"
   ]
  },
  {
   "cell_type": "markdown",
   "id": "93249a76",
   "metadata": {},
   "source": [
    "# connect to mysql"
   ]
  },
  {
   "cell_type": "code",
   "execution_count": 2,
   "id": "fe3a8cb1",
   "metadata": {},
   "outputs": [],
   "source": [
    "with open('config.json') as f:\n",
    "    config = json.load(f)\n",
    "\n",
    "db_config = config['database']\n",
    "username = db_config['user']\n",
    "password = db_config['password']\n",
    "host = db_config['host']\n",
    "database = db_config['name']\n",
    "password_encoded = quote_plus(password)\n",
    "\n",
    "engine = create_engine(f\"mysql+pymysql://{username}:{password_encoded}@{host}/{database}\")"
   ]
  },
  {
   "cell_type": "markdown",
   "id": "d2033321",
   "metadata": {},
   "source": [
    "# import option"
   ]
  },
  {
   "cell_type": "code",
   "execution_count": 3,
   "id": "7fa0f457",
   "metadata": {},
   "outputs": [],
   "source": [
    "pd.set_option('display.max_columns', None)"
   ]
  },
  {
   "cell_type": "markdown",
   "id": "9e224383",
   "metadata": {},
   "source": [
    "# Import DataSet"
   ]
  },
  {
   "cell_type": "code",
   "execution_count": 4,
   "id": "1e6ff534",
   "metadata": {},
   "outputs": [],
   "source": [
    "df_retail = pd.read_csv(\"Online Retail.csv\")"
   ]
  },
  {
   "cell_type": "markdown",
   "id": "98a7ba4f",
   "metadata": {},
   "source": [
    "# check dataset"
   ]
  },
  {
   "cell_type": "code",
   "execution_count": 5,
   "id": "b97dde52",
   "metadata": {},
   "outputs": [
    {
     "data": {
      "text/html": [
       "<div>\n",
       "<style scoped>\n",
       "    .dataframe tbody tr th:only-of-type {\n",
       "        vertical-align: middle;\n",
       "    }\n",
       "\n",
       "    .dataframe tbody tr th {\n",
       "        vertical-align: top;\n",
       "    }\n",
       "\n",
       "    .dataframe thead th {\n",
       "        text-align: right;\n",
       "    }\n",
       "</style>\n",
       "<table border=\"1\" class=\"dataframe\">\n",
       "  <thead>\n",
       "    <tr style=\"text-align: right;\">\n",
       "      <th></th>\n",
       "      <th>InvoiceNo</th>\n",
       "      <th>StockCode</th>\n",
       "      <th>Description</th>\n",
       "      <th>Quantity</th>\n",
       "      <th>InvoiceDate</th>\n",
       "      <th>UnitPrice</th>\n",
       "      <th>CustomerID</th>\n",
       "      <th>Country</th>\n",
       "    </tr>\n",
       "  </thead>\n",
       "  <tbody>\n",
       "    <tr>\n",
       "      <th>0</th>\n",
       "      <td>536365</td>\n",
       "      <td>85123A</td>\n",
       "      <td>WHITE HANGING HEART T-LIGHT HOLDER</td>\n",
       "      <td>6</td>\n",
       "      <td>12/1/2010 8:26</td>\n",
       "      <td>2.55</td>\n",
       "      <td>17850.0</td>\n",
       "      <td>United Kingdom</td>\n",
       "    </tr>\n",
       "    <tr>\n",
       "      <th>1</th>\n",
       "      <td>536365</td>\n",
       "      <td>71053</td>\n",
       "      <td>WHITE METAL LANTERN</td>\n",
       "      <td>6</td>\n",
       "      <td>12/1/2010 8:26</td>\n",
       "      <td>3.39</td>\n",
       "      <td>17850.0</td>\n",
       "      <td>United Kingdom</td>\n",
       "    </tr>\n",
       "    <tr>\n",
       "      <th>2</th>\n",
       "      <td>536365</td>\n",
       "      <td>84406B</td>\n",
       "      <td>CREAM CUPID HEARTS COAT HANGER</td>\n",
       "      <td>8</td>\n",
       "      <td>12/1/2010 8:26</td>\n",
       "      <td>2.75</td>\n",
       "      <td>17850.0</td>\n",
       "      <td>United Kingdom</td>\n",
       "    </tr>\n",
       "    <tr>\n",
       "      <th>3</th>\n",
       "      <td>536365</td>\n",
       "      <td>84029G</td>\n",
       "      <td>KNITTED UNION FLAG HOT WATER BOTTLE</td>\n",
       "      <td>6</td>\n",
       "      <td>12/1/2010 8:26</td>\n",
       "      <td>3.39</td>\n",
       "      <td>17850.0</td>\n",
       "      <td>United Kingdom</td>\n",
       "    </tr>\n",
       "    <tr>\n",
       "      <th>4</th>\n",
       "      <td>536365</td>\n",
       "      <td>84029E</td>\n",
       "      <td>RED WOOLLY HOTTIE WHITE HEART.</td>\n",
       "      <td>6</td>\n",
       "      <td>12/1/2010 8:26</td>\n",
       "      <td>3.39</td>\n",
       "      <td>17850.0</td>\n",
       "      <td>United Kingdom</td>\n",
       "    </tr>\n",
       "  </tbody>\n",
       "</table>\n",
       "</div>"
      ],
      "text/plain": [
       "  InvoiceNo StockCode                          Description  Quantity  \\\n",
       "0    536365    85123A   WHITE HANGING HEART T-LIGHT HOLDER         6   \n",
       "1    536365     71053                  WHITE METAL LANTERN         6   \n",
       "2    536365    84406B       CREAM CUPID HEARTS COAT HANGER         8   \n",
       "3    536365    84029G  KNITTED UNION FLAG HOT WATER BOTTLE         6   \n",
       "4    536365    84029E       RED WOOLLY HOTTIE WHITE HEART.         6   \n",
       "\n",
       "      InvoiceDate  UnitPrice  CustomerID         Country  \n",
       "0  12/1/2010 8:26       2.55     17850.0  United Kingdom  \n",
       "1  12/1/2010 8:26       3.39     17850.0  United Kingdom  \n",
       "2  12/1/2010 8:26       2.75     17850.0  United Kingdom  \n",
       "3  12/1/2010 8:26       3.39     17850.0  United Kingdom  \n",
       "4  12/1/2010 8:26       3.39     17850.0  United Kingdom  "
      ]
     },
     "execution_count": 5,
     "metadata": {},
     "output_type": "execute_result"
    }
   ],
   "source": [
    "df_retail.head()"
   ]
  },
  {
   "cell_type": "code",
   "execution_count": 6,
   "id": "e2f4efac",
   "metadata": {},
   "outputs": [
    {
     "name": "stdout",
     "output_type": "stream",
     "text": [
      "<class 'pandas.core.frame.DataFrame'>\n",
      "RangeIndex: 541909 entries, 0 to 541908\n",
      "Data columns (total 8 columns):\n",
      " #   Column       Non-Null Count   Dtype  \n",
      "---  ------       --------------   -----  \n",
      " 0   InvoiceNo    541909 non-null  object \n",
      " 1   StockCode    541909 non-null  object \n",
      " 2   Description  540455 non-null  object \n",
      " 3   Quantity     541909 non-null  int64  \n",
      " 4   InvoiceDate  541909 non-null  object \n",
      " 5   UnitPrice    541909 non-null  float64\n",
      " 6   CustomerID   406829 non-null  float64\n",
      " 7   Country      541909 non-null  object \n",
      "dtypes: float64(2), int64(1), object(5)\n",
      "memory usage: 33.1+ MB\n"
     ]
    }
   ],
   "source": [
    "df_retail.info()"
   ]
  },
  {
   "cell_type": "markdown",
   "id": "14ac5a8f",
   "metadata": {},
   "source": [
    "# renaming column "
   ]
  },
  {
   "cell_type": "code",
   "execution_count": 7,
   "id": "d1db09e9",
   "metadata": {},
   "outputs": [],
   "source": [
    "df_retail.rename(columns={\n",
    "    \"InvoiceNo\" : \"Invoice_No\" ,    \n",
    "    \"StockCode\" : \"Stock_Code\",    \n",
    "    \"InvoiceDate\" : \"Invoice_Date\",  \n",
    "    \"UnitPrice\" : \"Unit_Price\",    \n",
    "    \"CustomerID\" : \"Customer_ID\"  \n",
    "},inplace=True)"
   ]
  },
  {
   "cell_type": "markdown",
   "id": "b50ed0dc",
   "metadata": {},
   "source": [
    "# check null value"
   ]
  },
  {
   "cell_type": "code",
   "execution_count": 8,
   "id": "ef2c8b9c",
   "metadata": {},
   "outputs": [
    {
     "data": {
      "text/plain": [
       "Invoice_No           0\n",
       "Stock_Code           0\n",
       "Description       1454\n",
       "Quantity             0\n",
       "Invoice_Date         0\n",
       "Unit_Price           0\n",
       "Customer_ID     135080\n",
       "Country              0\n",
       "dtype: int64"
      ]
     },
     "execution_count": 8,
     "metadata": {},
     "output_type": "execute_result"
    }
   ],
   "source": [
    "df_retail.isnull().sum()"
   ]
  },
  {
   "cell_type": "code",
   "execution_count": 9,
   "id": "10be310d",
   "metadata": {},
   "outputs": [
    {
     "data": {
      "text/plain": [
       "Invoice_No       0.000000\n",
       "Stock_Code       0.000000\n",
       "Description      0.268311\n",
       "Quantity         0.000000\n",
       "Invoice_Date     0.000000\n",
       "Unit_Price       0.000000\n",
       "Customer_ID     24.926694\n",
       "Country          0.000000\n",
       "dtype: float64"
      ]
     },
     "execution_count": 9,
     "metadata": {},
     "output_type": "execute_result"
    }
   ],
   "source": [
    "df_retail.isnull().mean()*100"
   ]
  },
  {
   "cell_type": "code",
   "execution_count": 10,
   "id": "411e0e56",
   "metadata": {},
   "outputs": [],
   "source": [
    "df_retail[\"Customer_ID\"] = df_retail[\"Customer_ID\"].fillna(0)\n",
    "df_retail[\"Description\"] = df_retail[\"Description\"].fillna(\"Unknown\")"
   ]
  },
  {
   "cell_type": "code",
   "execution_count": 11,
   "id": "4a6b2025",
   "metadata": {},
   "outputs": [
    {
     "data": {
      "text/plain": [
       "Invoice_No      0\n",
       "Stock_Code      0\n",
       "Description     0\n",
       "Quantity        0\n",
       "Invoice_Date    0\n",
       "Unit_Price      0\n",
       "Customer_ID     0\n",
       "Country         0\n",
       "dtype: int64"
      ]
     },
     "execution_count": 11,
     "metadata": {},
     "output_type": "execute_result"
    }
   ],
   "source": [
    "df_retail.isnull().sum()"
   ]
  },
  {
   "cell_type": "markdown",
   "id": "41cdaccc",
   "metadata": {},
   "source": [
    "# data type"
   ]
  },
  {
   "cell_type": "code",
   "execution_count": 12,
   "id": "58ca54c6",
   "metadata": {},
   "outputs": [
    {
     "data": {
      "text/plain": [
       "Invoice_No       object\n",
       "Stock_Code       object\n",
       "Description      object\n",
       "Quantity          int64\n",
       "Invoice_Date     object\n",
       "Unit_Price      float64\n",
       "Customer_ID     float64\n",
       "Country          object\n",
       "dtype: object"
      ]
     },
     "execution_count": 12,
     "metadata": {},
     "output_type": "execute_result"
    }
   ],
   "source": [
    "df_retail.dtypes"
   ]
  },
  {
   "cell_type": "code",
   "execution_count": 13,
   "id": "e9aec8ae",
   "metadata": {},
   "outputs": [
    {
     "data": {
      "text/html": [
       "<div>\n",
       "<style scoped>\n",
       "    .dataframe tbody tr th:only-of-type {\n",
       "        vertical-align: middle;\n",
       "    }\n",
       "\n",
       "    .dataframe tbody tr th {\n",
       "        vertical-align: top;\n",
       "    }\n",
       "\n",
       "    .dataframe thead th {\n",
       "        text-align: right;\n",
       "    }\n",
       "</style>\n",
       "<table border=\"1\" class=\"dataframe\">\n",
       "  <thead>\n",
       "    <tr style=\"text-align: right;\">\n",
       "      <th></th>\n",
       "      <th>Invoice_No</th>\n",
       "      <th>Stock_Code</th>\n",
       "      <th>Description</th>\n",
       "      <th>Quantity</th>\n",
       "      <th>Invoice_Date</th>\n",
       "      <th>Unit_Price</th>\n",
       "      <th>Customer_ID</th>\n",
       "      <th>Country</th>\n",
       "    </tr>\n",
       "  </thead>\n",
       "  <tbody>\n",
       "    <tr>\n",
       "      <th>0</th>\n",
       "      <td>536365</td>\n",
       "      <td>85123A</td>\n",
       "      <td>WHITE HANGING HEART T-LIGHT HOLDER</td>\n",
       "      <td>6</td>\n",
       "      <td>12/1/2010 8:26</td>\n",
       "      <td>2.55</td>\n",
       "      <td>17850.0</td>\n",
       "      <td>United Kingdom</td>\n",
       "    </tr>\n",
       "    <tr>\n",
       "      <th>1</th>\n",
       "      <td>536365</td>\n",
       "      <td>71053</td>\n",
       "      <td>WHITE METAL LANTERN</td>\n",
       "      <td>6</td>\n",
       "      <td>12/1/2010 8:26</td>\n",
       "      <td>3.39</td>\n",
       "      <td>17850.0</td>\n",
       "      <td>United Kingdom</td>\n",
       "    </tr>\n",
       "    <tr>\n",
       "      <th>2</th>\n",
       "      <td>536365</td>\n",
       "      <td>84406B</td>\n",
       "      <td>CREAM CUPID HEARTS COAT HANGER</td>\n",
       "      <td>8</td>\n",
       "      <td>12/1/2010 8:26</td>\n",
       "      <td>2.75</td>\n",
       "      <td>17850.0</td>\n",
       "      <td>United Kingdom</td>\n",
       "    </tr>\n",
       "    <tr>\n",
       "      <th>3</th>\n",
       "      <td>536365</td>\n",
       "      <td>84029G</td>\n",
       "      <td>KNITTED UNION FLAG HOT WATER BOTTLE</td>\n",
       "      <td>6</td>\n",
       "      <td>12/1/2010 8:26</td>\n",
       "      <td>3.39</td>\n",
       "      <td>17850.0</td>\n",
       "      <td>United Kingdom</td>\n",
       "    </tr>\n",
       "    <tr>\n",
       "      <th>4</th>\n",
       "      <td>536365</td>\n",
       "      <td>84029E</td>\n",
       "      <td>RED WOOLLY HOTTIE WHITE HEART.</td>\n",
       "      <td>6</td>\n",
       "      <td>12/1/2010 8:26</td>\n",
       "      <td>3.39</td>\n",
       "      <td>17850.0</td>\n",
       "      <td>United Kingdom</td>\n",
       "    </tr>\n",
       "  </tbody>\n",
       "</table>\n",
       "</div>"
      ],
      "text/plain": [
       "  Invoice_No Stock_Code                          Description  Quantity  \\\n",
       "0     536365     85123A   WHITE HANGING HEART T-LIGHT HOLDER         6   \n",
       "1     536365      71053                  WHITE METAL LANTERN         6   \n",
       "2     536365     84406B       CREAM CUPID HEARTS COAT HANGER         8   \n",
       "3     536365     84029G  KNITTED UNION FLAG HOT WATER BOTTLE         6   \n",
       "4     536365     84029E       RED WOOLLY HOTTIE WHITE HEART.         6   \n",
       "\n",
       "     Invoice_Date  Unit_Price  Customer_ID         Country  \n",
       "0  12/1/2010 8:26        2.55      17850.0  United Kingdom  \n",
       "1  12/1/2010 8:26        3.39      17850.0  United Kingdom  \n",
       "2  12/1/2010 8:26        2.75      17850.0  United Kingdom  \n",
       "3  12/1/2010 8:26        3.39      17850.0  United Kingdom  \n",
       "4  12/1/2010 8:26        3.39      17850.0  United Kingdom  "
      ]
     },
     "execution_count": 13,
     "metadata": {},
     "output_type": "execute_result"
    }
   ],
   "source": [
    "df_retail.head()"
   ]
  },
  {
   "cell_type": "code",
   "execution_count": 14,
   "id": "7ea22fbd",
   "metadata": {},
   "outputs": [],
   "source": [
    "# remove every character in this var\n",
    "df_retail['Invoice_No'] = df_retail['Invoice_No'].str.replace(r'\\D+', '', regex=True)"
   ]
  },
  {
   "cell_type": "code",
   "execution_count": 15,
   "id": "4e7ca8fa",
   "metadata": {},
   "outputs": [],
   "source": [
    "df_retail = df_retail.astype({\n",
    "    \"Invoice_No\":\"int\",\n",
    "    \"Customer_ID\":\"int\"\n",
    "})"
   ]
  },
  {
   "cell_type": "code",
   "execution_count": 16,
   "id": "2b485ae5",
   "metadata": {},
   "outputs": [],
   "source": [
    "df_retail[\"Invoice_Date\"] = pd.to_datetime(df_retail[\"Invoice_Date\"])"
   ]
  },
  {
   "cell_type": "code",
   "execution_count": 17,
   "id": "299a2532",
   "metadata": {},
   "outputs": [
    {
     "data": {
      "text/plain": [
       "Invoice_No               int32\n",
       "Stock_Code              object\n",
       "Description             object\n",
       "Quantity                 int64\n",
       "Invoice_Date    datetime64[ns]\n",
       "Unit_Price             float64\n",
       "Customer_ID              int32\n",
       "Country                 object\n",
       "dtype: object"
      ]
     },
     "execution_count": 17,
     "metadata": {},
     "output_type": "execute_result"
    }
   ],
   "source": [
    "df_retail.dtypes"
   ]
  },
  {
   "cell_type": "markdown",
   "id": "7efa4c7b",
   "metadata": {},
   "source": [
    "# get additional column "
   ]
  },
  {
   "cell_type": "code",
   "execution_count": 18,
   "id": "6dd9a481",
   "metadata": {},
   "outputs": [],
   "source": [
    "df_retail['Year'] = df_retail['Invoice_Date'].dt.year\n",
    "df_retail['Month'] = df_retail['Invoice_Date'].dt.month\n",
    "df_retail['Day'] = df_retail['Invoice_Date'].dt.day\n",
    "df_retail['Hour'] = df_retail['Invoice_Date'].dt.hour\n",
    "df_retail['Minute'] = df_retail['Invoice_Date'].dt.minute\n",
    "df_retail['Weekday'] = df_retail['Invoice_Date'].dt.day_name() "
   ]
  },
  {
   "cell_type": "code",
   "execution_count": 19,
   "id": "0a2efd12",
   "metadata": {},
   "outputs": [],
   "source": [
    "df_retail[\"Total_Price\"] = df_retail[\"Quantity\"] * df_retail[\"Unit_Price\"]"
   ]
  },
  {
   "cell_type": "code",
   "execution_count": 20,
   "id": "6fe37aa8",
   "metadata": {},
   "outputs": [],
   "source": [
    "df_retail.to_csv('df_retail_code.csv', index=False, encoding='utf-8')"
   ]
  },
  {
   "cell_type": "markdown",
   "id": "6c807d25",
   "metadata": {},
   "source": [
    "# Normalize"
   ]
  },
  {
   "cell_type": "code",
   "execution_count": 21,
   "id": "31b07041",
   "metadata": {},
   "outputs": [],
   "source": [
    "numeric_cols = ['Quantity', 'Unit_Price','Total_Price']\n",
    "\n",
    "# normalize \n",
    "scaler = StandardScaler()\n",
    "scaled  = scaler.fit_transform(df_retail[numeric_cols])\n",
    "\n",
    "#create a dataframe becouse doesnt remove data\n",
    "scaled_df = pd.DataFrame(scaled, columns=['Quantity_scaled', 'UnitPrice_scaled','Total_Price_scaled'])\n",
    "\n",
    "#add to orginal dataframe\n",
    "df_retail = pd.concat([df_retail, scaled_df], axis=1)\n",
    "\n",
    "#delete additional data\n",
    "del scaled_df , scaled ,scaler"
   ]
  },
  {
   "cell_type": "markdown",
   "id": "915db8a0",
   "metadata": {},
   "source": [
    "# visioulation"
   ]
  },
  {
   "cell_type": "code",
   "execution_count": 22,
   "id": "2607f85d",
   "metadata": {},
   "outputs": [
    {
     "data": {
      "image/png": "[encoded data removed]",
      "text/plain": [
       "<Figure size 640x480 with 1 Axes>"
      ]
     },
     "metadata": {},
     "output_type": "display_data"
    }
   ],
   "source": [
    "top_10_products_by_quantity = df_retail.groupby(\"Description\")[\"Quantity\"].sum().sort_values(ascending=False).head(10)\n",
    "top_10_products_by_quantity.plot(kind=\"barh\",ylabel=\"Quality\")\n",
    "plt.show()\n",
    "del top_10_products_by_quantity"
   ]
  },
  {
   "cell_type": "code",
   "execution_count": 23,
   "id": "c0d8009e",
   "metadata": {},
   "outputs": [
    {
     "data": {
      "image/png": "[encoded data removed]",
      "text/plain": [
       "<Figure size 640x480 with 1 Axes>"
      ]
     },
     "metadata": {},
     "output_type": "display_data"
    }
   ],
   "source": [
    "top_10_products_by_sales = df_retail.groupby(\"Description\")[\"Total_Price\"].sum().sort_values(ascending=False).head(10)\n",
    "top_10_products_by_sales.plot(kind=\"bar\",ylabel=\"Total Price\")\n",
    "plt.show()\n",
    "del top_10_products_by_sales"
   ]
  },
  {
   "cell_type": "code",
   "execution_count": 24,
   "id": "0d27fccb",
   "metadata": {},
   "outputs": [
    {
     "data": {
      "image/png": "[encoded data removed]",
      "text/plain": [
       "<Figure size 640x480 with 1 Axes>"
      ]
     },
     "metadata": {},
     "output_type": "display_data"
    }
   ],
   "source": [
    "top_customer_id=df_retail['Customer_ID'].sort_values(ascending=False).head()\n",
    "top_customer_id.plot(kind=\"bar\",xlabel=\"Id\")\n",
    "plt.show()"
   ]
  },
  {
   "cell_type": "markdown",
   "id": "556eed13",
   "metadata": {},
   "source": [
    "# separate colum"
   ]
  },
  {
   "cell_type": "code",
   "execution_count": 25,
   "id": "38f476bf",
   "metadata": {},
   "outputs": [],
   "source": [
    "# splitting every world of the Description data column\n",
    "description = df_retail[\"Description\"].str.split(\" \", expand=True)\n",
    "# fill none column\n",
    "description = description.fillna(\"-\")\n",
    "# name of the column \n",
    "description.columns = [f'Desc_Token_{i}' for i in range(description.shape[1])]\n",
    "# add to orginal column\n",
    "df_retail = pd.concat([df_retail.reset_index(drop=True), description.reset_index(drop=True)], axis=1)\n",
    "\n",
    "del description "
   ]
  },
  {
   "cell_type": "markdown",
   "id": "313655b6",
   "metadata": {},
   "source": [
    "# fpgrowth algorithm"
   ]
  },
  {
   "cell_type": "code",
   "execution_count": 26,
   "id": "030688ae",
   "metadata": {},
   "outputs": [],
   "source": [
    "def run_market_basket(df, cols, min_support=0.01, metric=\"lift\", min_threshold=1):\n",
    "    # we need quantity > 0\n",
    "    df_filtered = df[df[\"Quantity\"] > 0]\n",
    "    \n",
    "    # sell basket\n",
    "    basket = df_filtered.groupby(cols)[\"Quantity\"].sum().unstack().fillna(0)\n",
    "    basket = (basket > 0).astype(int)\n",
    "\n",
    "    # extract favorite product\n",
    "    frequent_itemsets = fpgrowth(basket, min_support=min_support, use_colnames=True)\n",
    "\n",
    "    #generate rules\n",
    "    rules = association_rules(frequent_itemsets, metric=metric, min_threshold=min_threshold)\n",
    "\n",
    "    return frequent_itemsets, rules"
   ]
  },
  {
   "cell_type": "code",
   "execution_count": 27,
   "id": "c01fcf20",
   "metadata": {},
   "outputs": [
    {
     "name": "stderr",
     "output_type": "stream",
     "text": [
      "c:\\Users\\aliaj\\anaconda3\\Lib\\site-packages\\mlxtend\\frequent_patterns\\fpcommon.py:161: DeprecationWarning: DataFrames with non-bool types result in worse computationalperformance and their support might be discontinued in the future.Please use a DataFrame with bool type\n",
      "  warnings.warn(\n"
     ]
    }
   ],
   "source": [
    "frequent_itemsets_InvoiceNo, rules_InvoiceNo = run_market_basket(df_retail, ['Invoice_No', 'Stock_Code'], min_support=0.02)"
   ]
  },
  {
   "cell_type": "markdown",
   "id": "2db00213",
   "metadata": {},
   "source": [
    "benefit rule"
   ]
  },
  {
   "cell_type": "code",
   "execution_count": 28,
   "id": "1080ece5",
   "metadata": {},
   "outputs": [
    {
     "name": "stderr",
     "output_type": "stream",
     "text": [
      "C:\\Users\\aliaj\\AppData\\Local\\Temp\\ipykernel_11504\\518113049.py:2: SettingWithCopyWarning: \n",
      "A value is trying to be set on a copy of a slice from a DataFrame\n",
      "\n",
      "See the caveats in the documentation: https://pandas.pydata.org/pandas-docs/stable/user_guide/indexing.html#returning-a-view-versus-a-copy\n",
      "  strong_rules_InvoiceNo.sort_values(by='lift', ascending=False,inplace=True)\n"
     ]
    },
    {
     "data": {
      "text/html": [
       "<div>\n",
       "<style scoped>\n",
       "    .dataframe tbody tr th:only-of-type {\n",
       "        vertical-align: middle;\n",
       "    }\n",
       "\n",
       "    .dataframe tbody tr th {\n",
       "        vertical-align: top;\n",
       "    }\n",
       "\n",
       "    .dataframe thead th {\n",
       "        text-align: right;\n",
       "    }\n",
       "</style>\n",
       "<table border=\"1\" class=\"dataframe\">\n",
       "  <thead>\n",
       "    <tr style=\"text-align: right;\">\n",
       "      <th></th>\n",
       "      <th>antecedents</th>\n",
       "      <th>consequents</th>\n",
       "      <th>antecedent support</th>\n",
       "      <th>consequent support</th>\n",
       "      <th>support</th>\n",
       "      <th>confidence</th>\n",
       "      <th>lift</th>\n",
       "      <th>representativity</th>\n",
       "      <th>leverage</th>\n",
       "      <th>conviction</th>\n",
       "      <th>zhangs_metric</th>\n",
       "      <th>jaccard</th>\n",
       "      <th>certainty</th>\n",
       "      <th>kulczynski</th>\n",
       "    </tr>\n",
       "  </thead>\n",
       "  <tbody>\n",
       "    <tr>\n",
       "      <th>130</th>\n",
       "      <td>(22698)</td>\n",
       "      <td>(22699, 22697)</td>\n",
       "      <td>0.036955</td>\n",
       "      <td>0.037051</td>\n",
       "      <td>0.026148</td>\n",
       "      <td>0.707572</td>\n",
       "      <td>19.097068</td>\n",
       "      <td>1.0</td>\n",
       "      <td>0.024779</td>\n",
       "      <td>3.292941</td>\n",
       "      <td>0.983999</td>\n",
       "      <td>0.546371</td>\n",
       "      <td>0.696320</td>\n",
       "      <td>0.706650</td>\n",
       "    </tr>\n",
       "    <tr>\n",
       "      <th>127</th>\n",
       "      <td>(22699, 22697)</td>\n",
       "      <td>(22698)</td>\n",
       "      <td>0.037051</td>\n",
       "      <td>0.036955</td>\n",
       "      <td>0.026148</td>\n",
       "      <td>0.705729</td>\n",
       "      <td>19.097068</td>\n",
       "      <td>1.0</td>\n",
       "      <td>0.024779</td>\n",
       "      <td>3.272649</td>\n",
       "      <td>0.984098</td>\n",
       "      <td>0.546371</td>\n",
       "      <td>0.694437</td>\n",
       "      <td>0.706650</td>\n",
       "    </tr>\n",
       "    <tr>\n",
       "      <th>131</th>\n",
       "      <td>(22697)</td>\n",
       "      <td>(22699, 22698)</td>\n",
       "      <td>0.048968</td>\n",
       "      <td>0.028898</td>\n",
       "      <td>0.026148</td>\n",
       "      <td>0.533990</td>\n",
       "      <td>18.478377</td>\n",
       "      <td>1.0</td>\n",
       "      <td>0.024733</td>\n",
       "      <td>2.083866</td>\n",
       "      <td>0.994585</td>\n",
       "      <td>0.505597</td>\n",
       "      <td>0.520123</td>\n",
       "      <td>0.719416</td>\n",
       "    </tr>\n",
       "    <tr>\n",
       "      <th>126</th>\n",
       "      <td>(22699, 22698)</td>\n",
       "      <td>(22697)</td>\n",
       "      <td>0.028898</td>\n",
       "      <td>0.048968</td>\n",
       "      <td>0.026148</td>\n",
       "      <td>0.904841</td>\n",
       "      <td>18.478377</td>\n",
       "      <td>1.0</td>\n",
       "      <td>0.024733</td>\n",
       "      <td>9.994183</td>\n",
       "      <td>0.974030</td>\n",
       "      <td>0.505597</td>\n",
       "      <td>0.899942</td>\n",
       "      <td>0.719416</td>\n",
       "    </tr>\n",
       "    <tr>\n",
       "      <th>122</th>\n",
       "      <td>(22698)</td>\n",
       "      <td>(22697)</td>\n",
       "      <td>0.036955</td>\n",
       "      <td>0.048968</td>\n",
       "      <td>0.030538</td>\n",
       "      <td>0.826371</td>\n",
       "      <td>16.875875</td>\n",
       "      <td>1.0</td>\n",
       "      <td>0.028729</td>\n",
       "      <td>5.477375</td>\n",
       "      <td>0.976843</td>\n",
       "      <td>0.551394</td>\n",
       "      <td>0.817431</td>\n",
       "      <td>0.725008</td>\n",
       "    </tr>\n",
       "  </tbody>\n",
       "</table>\n",
       "</div>"
      ],
      "text/plain": [
       "        antecedents     consequents  antecedent support  consequent support  \\\n",
       "130         (22698)  (22699, 22697)            0.036955            0.037051   \n",
       "127  (22699, 22697)         (22698)            0.037051            0.036955   \n",
       "131         (22697)  (22699, 22698)            0.048968            0.028898   \n",
       "126  (22699, 22698)         (22697)            0.028898            0.048968   \n",
       "122         (22698)         (22697)            0.036955            0.048968   \n",
       "\n",
       "      support  confidence       lift  representativity  leverage  conviction  \\\n",
       "130  0.026148    0.707572  19.097068               1.0  0.024779    3.292941   \n",
       "127  0.026148    0.705729  19.097068               1.0  0.024779    3.272649   \n",
       "131  0.026148    0.533990  18.478377               1.0  0.024733    2.083866   \n",
       "126  0.026148    0.904841  18.478377               1.0  0.024733    9.994183   \n",
       "122  0.030538    0.826371  16.875875               1.0  0.028729    5.477375   \n",
       "\n",
       "     zhangs_metric   jaccard  certainty  kulczynski  \n",
       "130       0.983999  0.546371   0.696320    0.706650  \n",
       "127       0.984098  0.546371   0.694437    0.706650  \n",
       "131       0.994585  0.505597   0.520123    0.719416  \n",
       "126       0.974030  0.505597   0.899942    0.719416  \n",
       "122       0.976843  0.551394   0.817431    0.725008  "
      ]
     },
     "execution_count": 28,
     "metadata": {},
     "output_type": "execute_result"
    }
   ],
   "source": [
    "strong_rules_InvoiceNo = rules_InvoiceNo[(rules_InvoiceNo['confidence'] > 0.5) & (rules_InvoiceNo['lift'] > 1.2)]\n",
    "strong_rules_InvoiceNo.sort_values(by='lift', ascending=False,inplace=True)\n",
    "strong_rules_InvoiceNo.head()"
   ]
  },
  {
   "cell_type": "markdown",
   "id": "81ec3eb1",
   "metadata": {},
   "source": [
    "visoulation rules"
   ]
  },
  {
   "cell_type": "code",
   "execution_count": 29,
   "id": "40e10849",
   "metadata": {},
   "outputs": [
    {
     "data": {
      "image/png": "[encoded data removed]",
      "text/plain": [
       "<Figure size 1000x600 with 1 Axes>"
      ]
     },
     "metadata": {},
     "output_type": "display_data"
    }
   ],
   "source": [
    "plt.figure(figsize=(10,6))\n",
    "plt.scatter(rules_InvoiceNo['support'], rules_InvoiceNo['confidence'], alpha=0.5)\n",
    "plt.title(\"Support vs Confidence\")\n",
    "plt.xlabel(\"Support\")\n",
    "plt.ylabel(\"Confidence\")\n",
    "plt.grid(True)\n",
    "plt.show()"
   ]
  },
  {
   "cell_type": "code",
   "execution_count": 30,
   "id": "aa593e8b",
   "metadata": {},
   "outputs": [
    {
     "data": {
      "image/png": "[encoded data removed]",
      "text/plain": [
       "<Figure size 1000x600 with 1 Axes>"
      ]
     },
     "metadata": {},
     "output_type": "display_data"
    }
   ],
   "source": [
    "plt.figure(figsize=(10,6))\n",
    "plt.scatter(strong_rules_InvoiceNo['support'], strong_rules_InvoiceNo['confidence'], alpha=0.5)\n",
    "plt.title(\"Support vs Confidence \\n strong rules\")\n",
    "plt.xlabel(\"Support\")\n",
    "plt.ylabel(\"Confidence\")\n",
    "plt.grid(True)\n",
    "plt.show()"
   ]
  },
  {
   "cell_type": "markdown",
   "id": "6bf39a45",
   "metadata": {},
   "source": [
    "# show diagram"
   ]
  },
  {
   "cell_type": "code",
   "execution_count": 31,
   "id": "3f93c516",
   "metadata": {},
   "outputs": [],
   "source": [
    "def categorize_rule(row):\n",
    "    antecedents = list(row['antecedents'])\n",
    "    consequents = list(row['consequents'])\n",
    "\n",
    "    if (len(antecedents) == 1) and (len(consequents) == 1):\n",
    "        return 'Cross-sell'\n",
    "    \n",
    "    elif (len(antecedents) > 1) and (len(consequents) == 1):\n",
    "        return 'Bundling'\n",
    "    \n",
    "    elif (len(antecedents) == 1) and (len(consequents) > 1):\n",
    "        return 'Combo Discount'\n",
    "    \n",
    "    else:\n",
    "        return 'Complex Rule'"
   ]
  },
  {
   "cell_type": "code",
   "execution_count": 32,
   "id": "570f0dad",
   "metadata": {},
   "outputs": [],
   "source": [
    "rules_InvoiceNo['Strategy'] = rules_InvoiceNo.apply(categorize_rule, axis=1)"
   ]
  },
  {
   "cell_type": "code",
   "execution_count": 33,
   "id": "91640356",
   "metadata": {},
   "outputs": [],
   "source": [
    "cross_sell_rules = rules_InvoiceNo[rules_InvoiceNo['Strategy'] == 'Cross-sell']\n",
    "bundling_rules = rules_InvoiceNo[rules_InvoiceNo['Strategy'] == 'Bundling']\n",
    "combo_discount_rules = rules_InvoiceNo[rules_InvoiceNo['Strategy'] == 'Combo Discount']"
   ]
  },
  {
   "cell_type": "code",
   "execution_count": 34,
   "id": "27301f6c",
   "metadata": {},
   "outputs": [],
   "source": [
    "# pivote table\n",
    "def prepare_rules_for_pivot(rules_df, strategy_name):\n",
    "    df = rules_df[['antecedents', 'consequents', 'confidence', 'lift']].copy()\n",
    "    df['Strategy'] = strategy_name\n",
    "    return df\n"
   ]
  },
  {
   "cell_type": "code",
   "execution_count": 35,
   "id": "344e89c5",
   "metadata": {},
   "outputs": [],
   "source": [
    "combo_discount_pivot = prepare_rules_for_pivot(combo_discount_rules, 'Combo Discount')\n",
    "bundling_pivot = prepare_rules_for_pivot(bundling_rules, 'Bundling')\n",
    "cross_sell_pivot = prepare_rules_for_pivot(cross_sell_rules, 'Cross-sell')"
   ]
  },
  {
   "cell_type": "markdown",
   "id": "51384814",
   "metadata": {},
   "source": [
    "contact pivot table"
   ]
  },
  {
   "cell_type": "code",
   "execution_count": 36,
   "id": "ca44d532",
   "metadata": {},
   "outputs": [
    {
     "data": {
      "text/html": [
       "<div>\n",
       "<style scoped>\n",
       "    .dataframe tbody tr th:only-of-type {\n",
       "        vertical-align: middle;\n",
       "    }\n",
       "\n",
       "    .dataframe tbody tr th {\n",
       "        vertical-align: top;\n",
       "    }\n",
       "\n",
       "    .dataframe thead th {\n",
       "        text-align: right;\n",
       "    }\n",
       "</style>\n",
       "<table border=\"1\" class=\"dataframe\">\n",
       "  <thead>\n",
       "    <tr style=\"text-align: right;\">\n",
       "      <th></th>\n",
       "      <th>antecedents</th>\n",
       "      <th>consequents</th>\n",
       "      <th>confidence</th>\n",
       "      <th>lift</th>\n",
       "      <th>Strategy</th>\n",
       "    </tr>\n",
       "  </thead>\n",
       "  <tbody>\n",
       "    <tr>\n",
       "      <th>0</th>\n",
       "      <td>(22699)</td>\n",
       "      <td>(22698, 22697)</td>\n",
       "      <td>0.508443</td>\n",
       "      <td>16.649292</td>\n",
       "      <td>Combo Discount</td>\n",
       "    </tr>\n",
       "    <tr>\n",
       "      <th>1</th>\n",
       "      <td>(22698)</td>\n",
       "      <td>(22699, 22697)</td>\n",
       "      <td>0.707572</td>\n",
       "      <td>19.097068</td>\n",
       "      <td>Combo Discount</td>\n",
       "    </tr>\n",
       "    <tr>\n",
       "      <th>2</th>\n",
       "      <td>(22697)</td>\n",
       "      <td>(22699, 22698)</td>\n",
       "      <td>0.533990</td>\n",
       "      <td>18.478377</td>\n",
       "      <td>Combo Discount</td>\n",
       "    </tr>\n",
       "    <tr>\n",
       "      <th>3</th>\n",
       "      <td>(22699, 22698)</td>\n",
       "      <td>(22697)</td>\n",
       "      <td>0.904841</td>\n",
       "      <td>18.478377</td>\n",
       "      <td>Bundling</td>\n",
       "    </tr>\n",
       "    <tr>\n",
       "      <th>4</th>\n",
       "      <td>(22699, 22697)</td>\n",
       "      <td>(22698)</td>\n",
       "      <td>0.705729</td>\n",
       "      <td>19.097068</td>\n",
       "      <td>Bundling</td>\n",
       "    </tr>\n",
       "  </tbody>\n",
       "</table>\n",
       "</div>"
      ],
      "text/plain": [
       "      antecedents     consequents  confidence       lift        Strategy\n",
       "0         (22699)  (22698, 22697)    0.508443  16.649292  Combo Discount\n",
       "1         (22698)  (22699, 22697)    0.707572  19.097068  Combo Discount\n",
       "2         (22697)  (22699, 22698)    0.533990  18.478377  Combo Discount\n",
       "3  (22699, 22698)         (22697)    0.904841  18.478377        Bundling\n",
       "4  (22699, 22697)         (22698)    0.705729  19.097068        Bundling"
      ]
     },
     "execution_count": 36,
     "metadata": {},
     "output_type": "execute_result"
    }
   ],
   "source": [
    "rules_pivot = pd.concat([combo_discount_pivot, bundling_pivot, cross_sell_pivot], ignore_index=True)\n",
    "\n",
    "del combo_discount_pivot,bundling_pivot,cross_sell_pivot\n",
    "\n",
    "rules_pivot.head()\n"
   ]
  },
  {
   "cell_type": "markdown",
   "id": "d3fff36f",
   "metadata": {},
   "source": [
    "# encoding"
   ]
  },
  {
   "cell_type": "code",
   "execution_count": 37,
   "id": "9ab953ec",
   "metadata": {},
   "outputs": [],
   "source": [
    "#splite world of the text\n",
    "description = df_retail[\"Description\"].str.split(\" \", expand=True)\n",
    "#fill none item\n",
    "description = description.fillna(\"-\")\n",
    "# all data in one column\n",
    "all_words = pd.Series(description.values.ravel())  \n",
    "# remove Duplicate data\n",
    "all_words = all_words.dropna().unique()"
   ]
  },
  {
   "cell_type": "code",
   "execution_count": 38,
   "id": "9488825e",
   "metadata": {},
   "outputs": [
    {
     "name": "stderr",
     "output_type": "stream",
     "text": [
      "C:\\Users\\aliaj\\AppData\\Local\\Temp\\ipykernel_11504\\4037476988.py:5: FutureWarning: DataFrame.applymap has been deprecated. Use DataFrame.map instead.\n",
      "  description_encoded = description.applymap(lambda x: word_encoding_map.get(x) if x in word_encoding_map else None)\n"
     ]
    }
   ],
   "source": [
    "label_encode = LabelEncoder()\n",
    "encoded_words = label_encode.fit_transform(all_words)\n",
    "\n",
    "word_encoding_map = dict(zip(all_words, encoded_words))\n",
    "description_encoded = description.applymap(lambda x: word_encoding_map.get(x) if x in word_encoding_map else None)\n",
    "\n",
    "# column name change\n",
    "description_encoded.columns = [f'Encoding_Token_{i}' for i in range(description_encoded.shape[1])]\n",
    "\n",
    "#add to orginal dataset\n",
    "df_retail_encoded = pd.concat([df_retail.reset_index(drop=True), description_encoded.reset_index(drop=True)], axis=1)\n",
    "\n",
    "del label_encode,word_encoding_map,description_encoded\n"
   ]
  },
  {
   "cell_type": "markdown",
   "id": "8becbab6",
   "metadata": {},
   "source": [
    "# save dataframe"
   ]
  },
  {
   "cell_type": "code",
   "execution_count": 39,
   "id": "609750e2",
   "metadata": {},
   "outputs": [],
   "source": [
    "os.makedirs('database_exports', exist_ok=True)"
   ]
  },
  {
   "cell_type": "code",
   "execution_count": 40,
   "id": "65599db5",
   "metadata": {},
   "outputs": [],
   "source": [
    "database = 'dataset_retail'\n",
    "\n",
    "datasets = {\n",
    "    'Total_Data': df_retail,\n",
    "    'Encoder': df_retail_encoded.loc[:, ~df_retail_encoded.columns.duplicated()],\n",
    "    'Rules': rules_pivot\n",
    "}\n",
    "\n",
    "with open(\"database_exports/dataset_retail.db\", \"w\", encoding='utf-8') as f:\n",
    "    \n",
    "    f.write(f\"CREATE DATABASE IF NOT EXISTS `{database}`;\\n\")\n",
    "    f.write(f\"USE `{database}`;\\n\\n\")\n",
    "\n",
    "    for table_name, df in datasets.items():\n",
    "        f.write(f\"DROP TABLE IF EXISTS `{table_name}`;\\n\")\n",
    "        \n",
    "        table_creation_sql = pd.io.sql.get_schema(df, table_name, con=engine)\n",
    "        f.write(table_creation_sql + \";\\n\\n\")\n",
    "        \n",
    "        for index, row in df.iterrows():\n",
    "            values = []\n",
    "            for value in row.values:\n",
    "                if pd.notna(value):\n",
    "                    clean_value = str(value).replace(\"'\", \"''\")\n",
    "                    values.append(f\"'{clean_value}'\")\n",
    "                else:\n",
    "                    values.append('NULL')\n",
    "            values_joined = \", \".join(values)\n",
    "            f.write(f\"INSERT INTO `{table_name}` VALUES ({values_joined});\\n\")\n",
    "        \n",
    "        f.write(\"\\n\\n\")  \n",
    "\n",
    "engine.dispose()\n"
   ]
  },
  {
   "cell_type": "code",
   "execution_count": 41,
   "id": "1b96554e",
   "metadata": {},
   "outputs": [
    {
     "data": {
      "text/html": [
       "<div>\n",
       "<style scoped>\n",
       "    .dataframe tbody tr th:only-of-type {\n",
       "        vertical-align: middle;\n",
       "    }\n",
       "\n",
       "    .dataframe tbody tr th {\n",
       "        vertical-align: top;\n",
       "    }\n",
       "\n",
       "    .dataframe thead th {\n",
       "        text-align: right;\n",
       "    }\n",
       "</style>\n",
       "<table border=\"1\" class=\"dataframe\">\n",
       "  <thead>\n",
       "    <tr style=\"text-align: right;\">\n",
       "      <th></th>\n",
       "      <th>Invoice_No</th>\n",
       "      <th>Stock_Code</th>\n",
       "      <th>Description</th>\n",
       "      <th>Quantity</th>\n",
       "      <th>Invoice_Date</th>\n",
       "      <th>Unit_Price</th>\n",
       "      <th>Customer_ID</th>\n",
       "      <th>Country</th>\n",
       "      <th>Year</th>\n",
       "      <th>Month</th>\n",
       "      <th>Day</th>\n",
       "      <th>Hour</th>\n",
       "      <th>Minute</th>\n",
       "      <th>Weekday</th>\n",
       "      <th>Total_Price</th>\n",
       "      <th>Quantity_scaled</th>\n",
       "      <th>UnitPrice_scaled</th>\n",
       "      <th>Total_Price_scaled</th>\n",
       "      <th>Desc_Token_0</th>\n",
       "      <th>Desc_Token_1</th>\n",
       "      <th>Desc_Token_2</th>\n",
       "      <th>Desc_Token_3</th>\n",
       "      <th>Desc_Token_4</th>\n",
       "      <th>Desc_Token_5</th>\n",
       "      <th>Desc_Token_6</th>\n",
       "      <th>Desc_Token_7</th>\n",
       "      <th>Desc_Token_8</th>\n",
       "      <th>Desc_Token_9</th>\n",
       "    </tr>\n",
       "  </thead>\n",
       "  <tbody>\n",
       "    <tr>\n",
       "      <th>0</th>\n",
       "      <td>536365</td>\n",
       "      <td>85123A</td>\n",
       "      <td>WHITE HANGING HEART T-LIGHT HOLDER</td>\n",
       "      <td>6</td>\n",
       "      <td>2010-12-01 08:26:00</td>\n",
       "      <td>2.55</td>\n",
       "      <td>17850</td>\n",
       "      <td>United Kingdom</td>\n",
       "      <td>2010</td>\n",
       "      <td>12</td>\n",
       "      <td>1</td>\n",
       "      <td>8</td>\n",
       "      <td>26</td>\n",
       "      <td>Wednesday</td>\n",
       "      <td>15.30</td>\n",
       "      <td>-0.016289</td>\n",
       "      <td>-0.021301</td>\n",
       "      <td>-0.007095</td>\n",
       "      <td>WHITE</td>\n",
       "      <td>HANGING</td>\n",
       "      <td>HEART</td>\n",
       "      <td>T-LIGHT</td>\n",
       "      <td>HOLDER</td>\n",
       "      <td>-</td>\n",
       "      <td>-</td>\n",
       "      <td>-</td>\n",
       "      <td>-</td>\n",
       "      <td>-</td>\n",
       "    </tr>\n",
       "    <tr>\n",
       "      <th>1</th>\n",
       "      <td>536365</td>\n",
       "      <td>71053</td>\n",
       "      <td>WHITE METAL LANTERN</td>\n",
       "      <td>6</td>\n",
       "      <td>2010-12-01 08:26:00</td>\n",
       "      <td>3.39</td>\n",
       "      <td>17850</td>\n",
       "      <td>United Kingdom</td>\n",
       "      <td>2010</td>\n",
       "      <td>12</td>\n",
       "      <td>1</td>\n",
       "      <td>8</td>\n",
       "      <td>26</td>\n",
       "      <td>Wednesday</td>\n",
       "      <td>20.34</td>\n",
       "      <td>-0.016289</td>\n",
       "      <td>-0.012620</td>\n",
       "      <td>0.006209</td>\n",
       "      <td>WHITE</td>\n",
       "      <td>METAL</td>\n",
       "      <td>LANTERN</td>\n",
       "      <td>-</td>\n",
       "      <td>-</td>\n",
       "      <td>-</td>\n",
       "      <td>-</td>\n",
       "      <td>-</td>\n",
       "      <td>-</td>\n",
       "      <td>-</td>\n",
       "    </tr>\n",
       "    <tr>\n",
       "      <th>2</th>\n",
       "      <td>536365</td>\n",
       "      <td>84406B</td>\n",
       "      <td>CREAM CUPID HEARTS COAT HANGER</td>\n",
       "      <td>8</td>\n",
       "      <td>2010-12-01 08:26:00</td>\n",
       "      <td>2.75</td>\n",
       "      <td>17850</td>\n",
       "      <td>United Kingdom</td>\n",
       "      <td>2010</td>\n",
       "      <td>12</td>\n",
       "      <td>1</td>\n",
       "      <td>8</td>\n",
       "      <td>26</td>\n",
       "      <td>Wednesday</td>\n",
       "      <td>22.00</td>\n",
       "      <td>-0.007118</td>\n",
       "      <td>-0.019234</td>\n",
       "      <td>0.010592</td>\n",
       "      <td>CREAM</td>\n",
       "      <td>CUPID</td>\n",
       "      <td>HEARTS</td>\n",
       "      <td>COAT</td>\n",
       "      <td>HANGER</td>\n",
       "      <td>-</td>\n",
       "      <td>-</td>\n",
       "      <td>-</td>\n",
       "      <td>-</td>\n",
       "      <td>-</td>\n",
       "    </tr>\n",
       "    <tr>\n",
       "      <th>3</th>\n",
       "      <td>536365</td>\n",
       "      <td>84029G</td>\n",
       "      <td>KNITTED UNION FLAG HOT WATER BOTTLE</td>\n",
       "      <td>6</td>\n",
       "      <td>2010-12-01 08:26:00</td>\n",
       "      <td>3.39</td>\n",
       "      <td>17850</td>\n",
       "      <td>United Kingdom</td>\n",
       "      <td>2010</td>\n",
       "      <td>12</td>\n",
       "      <td>1</td>\n",
       "      <td>8</td>\n",
       "      <td>26</td>\n",
       "      <td>Wednesday</td>\n",
       "      <td>20.34</td>\n",
       "      <td>-0.016289</td>\n",
       "      <td>-0.012620</td>\n",
       "      <td>0.006209</td>\n",
       "      <td>KNITTED</td>\n",
       "      <td>UNION</td>\n",
       "      <td>FLAG</td>\n",
       "      <td>HOT</td>\n",
       "      <td>WATER</td>\n",
       "      <td>BOTTLE</td>\n",
       "      <td>-</td>\n",
       "      <td>-</td>\n",
       "      <td>-</td>\n",
       "      <td>-</td>\n",
       "    </tr>\n",
       "    <tr>\n",
       "      <th>4</th>\n",
       "      <td>536365</td>\n",
       "      <td>84029E</td>\n",
       "      <td>RED WOOLLY HOTTIE WHITE HEART.</td>\n",
       "      <td>6</td>\n",
       "      <td>2010-12-01 08:26:00</td>\n",
       "      <td>3.39</td>\n",
       "      <td>17850</td>\n",
       "      <td>United Kingdom</td>\n",
       "      <td>2010</td>\n",
       "      <td>12</td>\n",
       "      <td>1</td>\n",
       "      <td>8</td>\n",
       "      <td>26</td>\n",
       "      <td>Wednesday</td>\n",
       "      <td>20.34</td>\n",
       "      <td>-0.016289</td>\n",
       "      <td>-0.012620</td>\n",
       "      <td>0.006209</td>\n",
       "      <td>RED</td>\n",
       "      <td>WOOLLY</td>\n",
       "      <td>HOTTIE</td>\n",
       "      <td>WHITE</td>\n",
       "      <td>HEART.</td>\n",
       "      <td>-</td>\n",
       "      <td>-</td>\n",
       "      <td>-</td>\n",
       "      <td>-</td>\n",
       "      <td>-</td>\n",
       "    </tr>\n",
       "  </tbody>\n",
       "</table>\n",
       "</div>"
      ],
      "text/plain": [
       "   Invoice_No Stock_Code                          Description  Quantity  \\\n",
       "0      536365     85123A   WHITE HANGING HEART T-LIGHT HOLDER         6   \n",
       "1      536365      71053                  WHITE METAL LANTERN         6   \n",
       "2      536365     84406B       CREAM CUPID HEARTS COAT HANGER         8   \n",
       "3      536365     84029G  KNITTED UNION FLAG HOT WATER BOTTLE         6   \n",
       "4      536365     84029E       RED WOOLLY HOTTIE WHITE HEART.         6   \n",
       "\n",
       "         Invoice_Date  Unit_Price  Customer_ID         Country  Year  Month  \\\n",
       "0 2010-12-01 08:26:00        2.55        17850  United Kingdom  2010     12   \n",
       "1 2010-12-01 08:26:00        3.39        17850  United Kingdom  2010     12   \n",
       "2 2010-12-01 08:26:00        2.75        17850  United Kingdom  2010     12   \n",
       "3 2010-12-01 08:26:00        3.39        17850  United Kingdom  2010     12   \n",
       "4 2010-12-01 08:26:00        3.39        17850  United Kingdom  2010     12   \n",
       "\n",
       "   Day  Hour  Minute    Weekday  Total_Price  Quantity_scaled  \\\n",
       "0    1     8      26  Wednesday        15.30        -0.016289   \n",
       "1    1     8      26  Wednesday        20.34        -0.016289   \n",
       "2    1     8      26  Wednesday        22.00        -0.007118   \n",
       "3    1     8      26  Wednesday        20.34        -0.016289   \n",
       "4    1     8      26  Wednesday        20.34        -0.016289   \n",
       "\n",
       "   UnitPrice_scaled  Total_Price_scaled Desc_Token_0 Desc_Token_1  \\\n",
       "0         -0.021301           -0.007095        WHITE      HANGING   \n",
       "1         -0.012620            0.006209        WHITE        METAL   \n",
       "2         -0.019234            0.010592        CREAM        CUPID   \n",
       "3         -0.012620            0.006209      KNITTED        UNION   \n",
       "4         -0.012620            0.006209          RED       WOOLLY   \n",
       "\n",
       "  Desc_Token_2 Desc_Token_3 Desc_Token_4 Desc_Token_5 Desc_Token_6  \\\n",
       "0        HEART      T-LIGHT       HOLDER            -            -   \n",
       "1      LANTERN            -            -            -            -   \n",
       "2       HEARTS         COAT       HANGER            -            -   \n",
       "3         FLAG          HOT        WATER       BOTTLE            -   \n",
       "4       HOTTIE        WHITE       HEART.            -            -   \n",
       "\n",
       "  Desc_Token_7 Desc_Token_8 Desc_Token_9  \n",
       "0            -            -            -  \n",
       "1            -            -            -  \n",
       "2            -            -            -  \n",
       "3            -            -            -  \n",
       "4            -            -            -  "
      ]
     },
     "execution_count": 41,
     "metadata": {},
     "output_type": "execute_result"
    }
   ],
   "source": [
    "df_retail.head()"
   ]
  },
  {
   "cell_type": "code",
   "execution_count": 42,
   "id": "c6c74b9a",
   "metadata": {},
   "outputs": [],
   "source": [
    "df_retail_encoded.to_csv('df_retail_encoded.csv', index=False, encoding='utf-8')\n",
    "df.to_csv('market_basket_rules.csv', index=False, encoding='utf-8')\n",
    "rules_pivot.to_csv('rules_pivot.csv', index=False, encoding='utf-8')"
   ]
  },
  {
   "cell_type": "code",
   "execution_count": null,
   "id": "facfd479",
   "metadata": {},
   "outputs": [],
   "source": []
  }
 ],
 "metadata": {
  "kernelspec": {
   "display_name": "base",
   "language": "python",
   "name": "python3"
  },
  "language_info": {
   "codemirror_mode": {
    "name": "ipython",
    "version": 3
   },
   "file_extension": ".py",
   "mimetype": "text/x-python",
   "name": "python",
   "nbconvert_exporter": "python",
   "pygments_lexer": "ipython3",
   "version": "3.12.7"
  }
 },
 "nbformat": 4,
 "nbformat_minor": 5
}
